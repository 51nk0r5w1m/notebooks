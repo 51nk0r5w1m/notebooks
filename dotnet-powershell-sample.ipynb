{
 "cells": [
  {
   "cell_type": "markdown",
   "id": "intro",
   "metadata": {},
   "source": [
    "# .NET PowerShell Sample Notebook\n",
    "\n",
    "This notebook demonstrates basic usage of PowerShell with the .NET Interactive kernel.\n",
    "\n",
    "## Prerequisites\n",
    "- .NET Interactive installed\n",
    "- PowerShell kernel available\n",
    "\n",
    "## Getting Started\n",
    "This notebook shows common PowerShell operations and .NET integration examples."
   ]
  },
  {
   "cell_type": "markdown",
   "id": "basics",
   "metadata": {},
   "source": [
    "## Basic PowerShell Commands"
   ]
  },
  {
   "cell_type": "code",
   "execution_count": null,
   "id": "hello",
   "metadata": {
    "vscode": {
     "languageId": "powershell"
    }
   },
   "outputs": [],
   "source": [
    "# Simple output\n",
    "Write-Host \"Hello from PowerShell in .NET Interactive!\"\n",
    "\n",
    "# Get PowerShell version\n",
    "$PSVersionTable"
   ]
  },
  {
   "cell_type": "markdown",
   "id": "variables",
   "metadata": {},
   "source": [
    "## Working with Variables and Objects"
   ]
  },
  {
   "cell_type": "code",
   "execution_count": null,
   "id": "vars",
   "metadata": {
    "vscode": {
     "languageId": "powershell"
    }
   },
   "outputs": [],
   "source": [
    "# Define variables\n",
    "$name = \"User\"\n",
    "$numbers = 1..10\n",
    "\n",
    "# Create custom object\n",
    "$person = [PSCustomObject]@{\n",
    "    Name = \"John Doe\"\n",
    "    Age = 30\n",
    "    Role = \"Developer\"\n",
    "}\n",
    "\n",
    "$person"
   ]
  },
  {
   "cell_type": "markdown",
   "id": "pipeline",
   "metadata": {},
   "source": [
    "## PowerShell Pipeline"
   ]
  },
  {
   "cell_type": "code",
   "execution_count": null,
   "id": "pipe",
   "metadata": {
    "vscode": {
     "languageId": "powershell"
    }
   },
   "outputs": [],
   "source": [
    "# Pipeline example with filtering and sorting\n",
    "1..20 | Where-Object { $_ % 2 -eq 0 } | ForEach-Object { $_ * 2 }"
   ]
  },
  {
   "cell_type": "markdown",
   "id": "dotnet",
   "metadata": {},
   "source": [
    "## .NET Integration"
   ]
  },
  {
   "cell_type": "code",
   "execution_count": null,
   "id": "datetime",
   "metadata": {
    "vscode": {
     "languageId": "powershell"
    }
   },
   "outputs": [],
   "source": [
    "# Using .NET classes directly\n",
    "$now = [System.DateTime]::Now\n",
    "Write-Host \"Current date and time: $now\"\n",
    "\n",
    "# Format date\n",
    "$now.ToString(\"yyyy-MM-dd HH:mm:ss\")"
   ]
  },
  {
   "cell_type": "markdown",
   "id": "functions",
   "metadata": {},
   "source": [
    "## Functions"
   ]
  },
  {
   "cell_type": "code",
   "execution_count": null,
   "id": "func",
   "metadata": {
    "vscode": {
     "languageId": "powershell"
    }
   },
   "outputs": [],
   "source": [
    "# Define a function\n",
    "function Get-Greeting {\n",
    "    param(\n",
    "        [string]$Name = \"World\"\n",
    "    )\n",
    "    \n",
    "    return \"Hello, $Name!\"\n",
    "}\n",
    "\n",
    "# Call the function\n",
    "Get-Greeting -Name \"PowerShell User\""
   ]
  },
  {
   "cell_type": "markdown",
   "id": "error",
   "metadata": {},
   "source": [
    "## Error Handling"
   ]
  },
  {
   "cell_type": "code",
   "execution_count": null,
   "id": "try",
   "metadata": {
    "vscode": {
     "languageId": "powershell"
    }
   },
   "outputs": [],
   "source": [
    "# Try-Catch example\n",
    "try {\n",
    "    $result = 10 / 2\n",
    "    Write-Host \"Result: $result\"\n",
    "} catch {\n",
    "    Write-Host \"An error occurred: $_\"\n",
    "}"
   ]
  },
  {
   "cell_type": "markdown",
   "id": "arrays",
   "metadata": {},
   "source": [
    "## Working with Arrays and Hash Tables"
   ]
  },
  {
   "cell_type": "code",
   "execution_count": null,
   "id": "collections",
   "metadata": {
    "vscode": {
     "languageId": "powershell"
    }
   },
   "outputs": [],
   "source": [
    "# Arrays\n",
    "$fruits = @(\"Apple\", \"Banana\", \"Orange\")\n",
    "Write-Host \"Fruits: $($fruits -join ', ')\"\n",
    "\n",
    "# Hash tables\n",
    "$config = @{\n",
    "    Server = \"localhost\"\n",
    "    Port = 8080\n",
    "    Enabled = $true\n",
    "}\n",
    "\n",
    "$config"
   ]
  }
 ],
 "metadata": {
  "kernelspec": {
   "display_name": ".NET (PowerShell)",
   "language": "PowerShell",
   "name": ".net-powershell"
  },
  "language_info": {
   "name": "PowerShell",
   "version": "7.0"
  },
  "polyglot_notebook": {
   "kernelInfo": {
    "defaultKernelName": "pwsh",
    "items": [
     {
      "name": "pwsh",
      "languageName": "PowerShell"
     }
    ]
   }
  }
 },
 "nbformat": 4,
 "nbformat_minor": 5
}
