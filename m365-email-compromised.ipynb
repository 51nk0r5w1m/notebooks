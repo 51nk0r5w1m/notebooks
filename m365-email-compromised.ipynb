{
 "cells": [
  {
   "cell_type": "markdown",
   "id": "505fdf03",
   "metadata": {},
   "source": [
    "# M365 Incident Response — Compromised Email (App-Only)\n",
    "\n",
    "This notebook is a starter playbook for automated incident response (IR) focused on a potentially compromised Microsoft 365 mailbox. It is written for the .NET PowerShell kernel (PowerShell via .NET Interactive) and uses app-only (client credentials) authentication against Microsoft Graph so it can be run unattended by a service account or automation pipeline.\n",
    "\n",
    "Security note: do NOT commit client secrets or certificates into source control. Store secrets in a secure location (Key Vault, files with strict permissions, or environment variables) and restrict access to the notebook and host environment."
   ]
  },
  {
   "cell_type": "markdown",
   "id": "setup",
   "metadata": {},
   "source": [
    "## Setup and Authentication\n",
    "\n",
    "Configure app-only authentication to Microsoft Graph."
   ]
  },
  {
   "cell_type": "code",
   "execution_count": null,
   "id": "auth",
   "metadata": {
    "vscode": {
     "languageId": "powershell"
    }
   },
   "outputs": [],
   "source": [
    "# Install Microsoft Graph PowerShell SDK if not already installed\n",
    "# Install-Module Microsoft.Graph -Scope CurrentUser -Force\n",
    "\n",
    "# Configure app registration details\n",
    "$tenantId = \"YOUR_TENANT_ID\"\n",
    "$clientId = \"YOUR_CLIENT_ID\"\n",
    "$clientSecret = \"YOUR_CLIENT_SECRET\"  # Store securely!\n",
    "\n",
    "# Convert client secret to secure string\n",
    "$secureClientSecret = ConvertTo-SecureString -String $clientSecret -AsPlainText -Force\n",
    "$clientSecretCredential = New-Object -TypeName System.Management.Automation.PSCredential -ArgumentList $clientId, $secureClientSecret\n",
    "\n",
    "# Connect to Microsoft Graph\n",
    "Connect-MgGraph -TenantId $tenantId -ClientSecretCredential $clientSecretCredential\n",
    "\n",
    "Write-Host \"Successfully connected to Microsoft Graph\""
   ]
  },
  {
   "cell_type": "markdown",
   "id": "config",
   "metadata": {},
   "source": [
    "## Configuration\n",
    "\n",
    "Set the compromised user's email address and incident parameters."
   ]
  },
  {
   "cell_type": "code",
   "execution_count": null,
   "id": "params",
   "metadata": {
    "vscode": {
     "languageId": "powershell"
    }
   },
   "outputs": [],
   "source": [
    "# Compromised user configuration\n",
    "$compromisedUserEmail = \"user@contoso.com\"\n",
    "$investigationStartDate = (Get-Date).AddDays(-7)  # Look back 7 days\n",
    "\n",
    "Write-Host \"Investigating user: $compromisedUserEmail\"\n",
    "Write-Host \"Investigation period: From $investigationStartDate to now\""
   ]
  },
  {
   "cell_type": "markdown",
   "id": "user-info",
   "metadata": {},
   "source": [
    "## Step 1: Gather User Information\n",
    "\n",
    "Retrieve basic information about the compromised user."
   ]
  },
  {
   "cell_type": "code",
   "execution_count": null,
   "id": "get-user",
   "metadata": {
    "vscode": {
     "languageId": "powershell"
    }
   },
   "outputs": [],
   "source": [
    "# Get user details\n",
    "try {\n",
    "    $user = Get-MgUser -UserId $compromisedUserEmail -Property DisplayName,UserPrincipalName,AccountEnabled,SignInActivity,Id -ErrorAction Stop\n",
    "    \n",
    "    $user | Select-Object DisplayName, UserPrincipalName, AccountEnabled, Id\n",
    "    \n",
    "    # Store user ID for later use\n",
    "    $userId = $user.Id\n",
    "    \n",
    "    if (-not $userId) {\n",
    "        throw \"User ID could not be retrieved\"\n",
    "    }\n",
    "    \n",
    "    Write-Host \"User found: $($user.DisplayName)\" -ForegroundColor Green\n",
    "} catch {\n",
    "    Write-Host \"ERROR: Failed to retrieve user: $_\" -ForegroundColor Red\n",
    "    Write-Host \"Please verify the user email address and try again.\" -ForegroundColor Yellow\n",
    "    throw\n",
    "}"
   ]
  },
  {
   "cell_type": "markdown",
   "id": "signin",
   "metadata": {},
   "source": [
    "## Step 2: Review Recent Sign-In Activity\n",
    "\n",
    "Check for suspicious sign-in attempts and locations."
   ]
  },
  {
   "cell_type": "code",
   "execution_count": null,
   "id": "signins",
   "metadata": {
    "vscode": {
     "languageId": "powershell"
    }
   },
   "outputs": [],
   "source": [
    "# Get sign-in logs for the user\n",
    "$signInLogs = Get-MgAuditLogSignIn -Filter \"userPrincipalName eq '$compromisedUserEmail' and createdDateTime ge $($investigationStartDate.ToString('yyyy-MM-ddTHH:mm:ssZ'))\" -Top 100\n",
    "\n",
    "# Display sign-in summary\n",
    "$signInLogs | Select-Object CreatedDateTime, AppDisplayName, IpAddress, Location, Status | Format-Table -AutoSize\n",
    "\n",
    "# Identify unique IP addresses\n",
    "$uniqueIPs = $signInLogs | Select-Object -ExpandProperty IpAddress -Unique\n",
    "Write-Host \"Unique IP addresses: $($uniqueIPs -join ', ')\""
   ]
  },
  {
   "cell_type": "markdown",
   "id": "audit",
   "metadata": {},
   "source": [
    "## Step 3: Check Mailbox Audit Logs\n",
    "\n",
    "Review mailbox operations and forwarding rules."
   ]
  },
  {
   "cell_type": "code",
   "execution_count": null,
   "id": "mailbox-audit",
   "metadata": {
    "vscode": {
     "languageId": "powershell"
    }
   },
   "outputs": [],
   "source": [
    "# Connect to Exchange Online if needed\n",
    "# Connect-ExchangeOnline -CertificateThumbprint \"YOUR_CERT_THUMBPRINT\" -AppId $clientId -Organization \"contoso.onmicrosoft.com\"\n",
    "\n",
    "# Search mailbox audit logs\n",
    "$startDate = $investigationStartDate\n",
    "$endDate = Get-Date\n",
    "\n",
    "# Example: Search for specific operations\n",
    "# $auditLogs = Search-UnifiedAuditLog -StartDate $startDate -EndDate $endDate -UserIds $compromisedUserEmail -Operations \"New-InboxRule\",\"Set-InboxRule\",\"UpdateInboxRules\" -ResultSize 1000\n",
    "\n",
    "Write-Host \"Audit log search configured for date range: $startDate to $endDate\""
   ]
  },
  {
   "cell_type": "markdown",
   "id": "inbox-rules",
   "metadata": {},
   "source": [
    "## Step 4: Examine Inbox Rules\n",
    "\n",
    "Check for suspicious forwarding or deletion rules."
   ]
  },
  {
   "cell_type": "code",
   "execution_count": null,
   "id": "rules",
   "metadata": {
    "vscode": {
     "languageId": "powershell"
    }
   },
   "outputs": [],
   "source": [
    "# Get inbox rules (requires Exchange Online connection)\n",
    "# $inboxRules = Get-InboxRule -Mailbox $compromisedUserEmail\n",
    "\n",
    "# Display rules that forward or delete messages\n",
    "# $suspiciousRules = $inboxRules | Where-Object { $_.ForwardTo -or $_.ForwardAsAttachmentTo -or $_.DeleteMessage -eq $true }\n",
    "\n",
    "# if ($suspiciousRules) {\n",
    "#     Write-Host \"WARNING: Found potentially suspicious inbox rules:\" -ForegroundColor Red\n",
    "#     $suspiciousRules | Format-List Name, Description, ForwardTo, ForwardAsAttachmentTo, DeleteMessage\n",
    "# } else {\n",
    "#     Write-Host \"No suspicious inbox rules found.\" -ForegroundColor Green\n",
    "# }\n",
    "\n",
    "Write-Host \"Inbox rule check configured (requires Exchange Online connection)\""
   ]
  },
  {
   "cell_type": "markdown",
   "id": "mailbox-perms",
   "metadata": {},
   "source": [
    "## Step 5: Review Mailbox Permissions\n",
    "\n",
    "Check for unauthorized delegate access."
   ]
  },
  {
   "cell_type": "code",
   "execution_count": null,
   "id": "perms",
   "metadata": {
    "vscode": {
     "languageId": "powershell"
    }
   },
   "outputs": [],
   "source": [
    "# Get mailbox permissions (requires Exchange Online)\n",
    "# $mailboxPermissions = Get-MailboxPermission -Identity $compromisedUserEmail | Where-Object { $_.User -ne \"NT AUTHORITY\\SELF\" }\n",
    "\n",
    "# if ($mailboxPermissions) {\n",
    "#     Write-Host \"Mailbox permissions found:\"\n",
    "#     $mailboxPermissions | Format-Table User, AccessRights, IsInherited\n",
    "# } else {\n",
    "#     Write-Host \"No additional mailbox permissions found.\"\n",
    "# }\n",
    "\n",
    "Write-Host \"Mailbox permission check configured\""
   ]
  },
  {
   "cell_type": "markdown",
   "id": "oauth",
   "metadata": {},
   "source": [
    "## Step 6: Check OAuth App Consents\n",
    "\n",
    "Identify potentially malicious OAuth applications with mail access."
   ]
  },
  {
   "cell_type": "code",
   "execution_count": null,
   "id": "oauth-apps",
   "metadata": {
    "vscode": {
     "languageId": "powershell"
    }
   },
   "outputs": [],
   "source": [
    "# Get OAuth grants for the user\n",
    "$oauthGrants = Get-MgUserOauth2PermissionGrant -UserId $userId\n",
    "\n",
    "# Display apps with mail-related permissions\n",
    "foreach ($grant in $oauthGrants) {\n",
    "    $app = Get-MgServicePrincipal -ServicePrincipalId $grant.ClientId\n",
    "    \n",
    "    if ($grant.Scope -match \"Mail\") {\n",
    "        Write-Host \"App: $($app.DisplayName)\" -ForegroundColor Yellow\n",
    "        Write-Host \"  Permissions: $($grant.Scope)\"\n",
    "        Write-Host \"  Consent Type: $($grant.ConsentType)\"\n",
    "    }\n",
    "}\n",
    "\n",
    "Write-Host \"OAuth app consent review completed\""
   ]
  },
  {
   "cell_type": "markdown",
   "id": "sent-items",
   "metadata": {},
   "source": [
    "## Step 7: Review Sent Items\n",
    "\n",
    "Check for suspicious sent messages."
   ]
  },
  {
   "cell_type": "code",
   "execution_count": null,
   "id": "sent",
   "metadata": {
    "vscode": {
     "languageId": "powershell"
    }
   },
   "outputs": [],
   "source": [
    "# Get recent sent messages\n",
    "$sentMessages = Get-MgUserMessage -UserId $userId -Filter \"sentDateTime ge $($investigationStartDate.ToString('yyyy-MM-ddTHH:mm:ssZ')) and isDraft eq false\" -Top 50 -OrderBy \"sentDateTime DESC\"\n",
    "\n",
    "# Display sent message summary\n",
    "$sentMessages | Select-Object SentDateTime, Subject, @{Name=\"To\";Expression={$_.ToRecipients.EmailAddress.Address -join \", \"}} | Format-Table -AutoSize\n",
    "\n",
    "Write-Host \"Total sent messages in investigation period: $($sentMessages.Count)\""
   ]
  },
  {
   "cell_type": "markdown",
   "id": "remediation",
   "metadata": {},
   "source": [
    "## Step 8: Immediate Remediation Actions\n",
    "\n",
    "Take containment actions to limit further damage."
   ]
  },
  {
   "cell_type": "code",
   "execution_count": null,
   "id": "contain",
   "metadata": {
    "vscode": {
     "languageId": "powershell"
    }
   },
   "outputs": [],
   "source": [
    "# CAUTION: Uncomment and run these commands carefully\n",
    "\n",
    "# Option 1: Revoke all refresh tokens (forces re-authentication)\n",
    "# Revoke-MgUserSignInSession -UserId $userId\n",
    "# Write-Host \"All user sessions revoked\" -ForegroundColor Green\n",
    "\n",
    "# Option 2: Disable the account temporarily\n",
    "# Update-MgUser -UserId $userId -AccountEnabled:$false\n",
    "# Write-Host \"Account disabled\" -ForegroundColor Red\n",
    "\n",
    "# Option 3: Remove suspicious inbox rules (requires Exchange Online)\n",
    "# foreach ($rule in $suspiciousRules) {\n",
    "#     Remove-InboxRule -Identity $rule.Identity -Mailbox $compromisedUserEmail -Confirm:$false\n",
    "#     Write-Host \"Removed rule: $($rule.Name)\" -ForegroundColor Yellow\n",
    "# }\n",
    "\n",
    "Write-Host \"Remediation actions configured (review and uncomment to execute)\""
   ]
  },
  {
   "cell_type": "markdown",
   "id": "reset-pwd",
   "metadata": {},
   "source": [
    "## Step 9: Reset Password\n",
    "\n",
    "Force a password reset for the compromised account."
   ]
  },
  {
   "cell_type": "code",
   "execution_count": null,
   "id": "password",
   "metadata": {
    "vscode": {
     "languageId": "powershell"
    }
   },
   "outputs": [],
   "source": [
    "# Generate temporary password\n",
    "# $tempPassword = \"TempP@ss\" + (Get-Random -Minimum 1000 -Maximum 9999) + \"!\"\n",
    "# $passwordProfile = @{\n",
    "#     Password = $tempPassword\n",
    "#     ForceChangePasswordNextSignIn = $true\n",
    "# }\n",
    "\n",
    "# Reset password\n",
    "# Update-MgUser -UserId $userId -PasswordProfile $passwordProfile\n",
    "# Write-Host \"Password has been reset. Temporary password: $tempPassword\" -ForegroundColor Yellow\n",
    "# Write-Host \"User will be required to change password at next sign-in\" -ForegroundColor Green\n",
    "\n",
    "Write-Host \"Password reset configured (uncomment to execute)\""
   ]
  },
  {
   "cell_type": "markdown",
   "id": "mfa",
   "metadata": {},
   "source": [
    "## Step 10: Enable MFA\n",
    "\n",
    "Ensure multi-factor authentication is enabled."
   ]
  },
  {
   "cell_type": "code",
   "execution_count": null,
   "id": "mfa-enable",
   "metadata": {
    "vscode": {
     "languageId": "powershell"
    }
   },
   "outputs": [],
   "source": [
    "# Check current MFA status\n",
    "$authMethods = Get-MgUserAuthenticationMethod -UserId $userId\n",
    "\n",
    "Write-Host \"Current authentication methods:\"\n",
    "$authMethods | Select-Object Id, @{Name=\"Type\";Expression={$_.AdditionalProperties['@odata.type']}} | Format-Table\n",
    "\n",
    "# Enable MFA registration (requires appropriate policies)\n",
    "Write-Host \"Ensure MFA is enforced via Conditional Access policies\" -ForegroundColor Yellow"
   ]
  },
  {
   "cell_type": "markdown",
   "id": "report",
   "metadata": {},
   "source": [
    "## Step 11: Generate Incident Report\n",
    "\n",
    "Summarize findings and actions taken."
   ]
  },
  {
   "cell_type": "code",
   "execution_count": null,
   "id": "summary",
   "metadata": {
    "vscode": {
     "languageId": "powershell"
    }
   },
   "outputs": [],
   "source": [
    "# Create incident summary\n",
    "$report = @\"\n",
    "===================================\n",
    "M365 INCIDENT RESPONSE REPORT\n",
    "===================================\n",
    "User: $compromisedUserEmail\n",
    "Investigation Date: $(Get-Date -Format 'yyyy-MM-dd HH:mm:ss')\n",
    "Investigation Period: $investigationStartDate to $(Get-Date)\n",
    "\n",
    "FINDINGS:\n",
    "- Sign-in attempts: $($signInLogs.Count)\n",
    "- Unique IP addresses: $($uniqueIPs.Count)\n",
    "- Sent messages: $($sentMessages.Count)\n",
    "- OAuth grants with mail access: Review output above\n",
    "\n",
    "ACTIONS TAKEN:\n",
    "- Investigation completed\n",
    "- Review remediation section for containment actions\n",
    "\n",
    "RECOMMENDATIONS:\n",
    "- Review and remove suspicious inbox rules\n",
    "- Revoke refresh tokens to force re-authentication\n",
    "- Reset user password\n",
    "- Enable MFA if not already active\n",
    "- Review and revoke suspicious OAuth app consents\n",
    "- Monitor user activity for next 30 days\n",
    "===================================\n",
    "\"@\n",
    "\n",
    "Write-Host $report\n",
    "\n",
    "# Optionally save to file\n",
    "# $report | Out-File -FilePath \"incident-report-$(Get-Date -Format 'yyyyMMdd-HHmmss').txt\""
   ]
  },
  {
   "cell_type": "markdown",
   "id": "cleanup",
   "metadata": {},
   "source": [
    "## Cleanup\n",
    "\n",
    "Disconnect from Microsoft Graph."
   ]
  },
  {
   "cell_type": "code",
   "execution_count": null,
   "id": "disconnect",
   "metadata": {
    "vscode": {
     "languageId": "powershell"
    }
   },
   "outputs": [],
   "source": [
    "# Disconnect from Microsoft Graph\n",
    "Disconnect-MgGraph\n",
    "\n",
    "Write-Host \"Disconnected from Microsoft Graph\" -ForegroundColor Green"
   ]
  }
 ],
 "metadata": {
  "kernelspec": {
   "display_name": ".NET (PowerShell)",
   "language": "PowerShell",
   "name": ".net-powershell"
  },
  "language_info": {
   "name": "PowerShell",
   "version": "7.0"
  },
  "polyglot_notebook": {
   "kernelInfo": {
    "defaultKernelName": "pwsh",
    "items": [
     {
      "name": "pwsh",
      "languageName": "PowerShell"
     }
    ]
   }
  }
 },
 "nbformat": 4,
 "nbformat_minor": 5
}
